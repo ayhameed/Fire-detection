{
 "cells": [
  {
   "cell_type": "markdown",
   "metadata": {},
   "source": [
    "#  Wildfire Fire Detection from Satellite Imagery  (UNET)"
   ]
  },
  {
   "cell_type": "markdown",
   "metadata": {},
   "source": [
    "## Import libraries"
   ]
  },
  {
   "cell_type": "code",
   "execution_count": null,
   "metadata": {},
   "outputs": [],
   "source": [
    "#Import Libraries\n",
    "import os\n",
    "import sys\n",
    "import time\n",
    "import pandas as pd\n",
    "import numpy as np\n",
    "import cv2 \n",
    "import matplotlib.pyplot as plt"
   ]
  },
  {
   "cell_type": "code",
   "execution_count": null,
   "metadata": {},
   "outputs": [],
   "source": [
    "from tensorflow.keras.models import Model\n",
    "from tensorflow.keras.layers import Input, Conv2D, MaxPooling2D, UpSampling2D, concatenate\n",
    "from tensorflow.keras.callbacks import ModelCheckpoint, EarlyStopping"
   ]
  },
  {
   "cell_type": "code",
   "execution_count": null,
   "metadata": {},
   "outputs": [],
   "source": [
    "# Add the path to the functions directory\n",
    "sys.path.append('../functions')  # Add the path to the functions directory"
   ]
  },
  {
   "cell_type": "markdown",
   "metadata": {},
   "source": [
    "## A. Load Dataset"
   ]
  },
  {
   "cell_type": "markdown",
   "metadata": {},
   "source": [
    "### A Load tiles from ../dataset/tiles"
   ]
  },
  {
   "cell_type": "code",
   "execution_count": null,
   "metadata": {},
   "outputs": [],
   "source": [
    "# import user defined function for loading tiles from datasets/tiles using functions/load_dataset.py\n",
    "from load_dataset import load_images_from_directory"
   ]
  },
  {
   "cell_type": "code",
   "execution_count": null,
   "metadata": {},
   "outputs": [],
   "source": [
    "# specify path and call function \n",
    "directory = \"../dataset/tiles\"\n",
    "tiles = load_images_from_directory(directory)"
   ]
  },
  {
   "cell_type": "markdown",
   "metadata": {},
   "source": [
    "- ### Visualize tile after loading "
   ]
  },
  {
   "cell_type": "code",
   "execution_count": null,
   "metadata": {},
   "outputs": [],
   "source": [
    "# confirm if tiles [] holds images, print length and plot \n",
    "\n",
    "# Confirm if tiles[] holds images\n",
    "if len(tiles) > 0:\n",
    "    # Display the number of images loaded\n",
    "    print(f\"Number of images loaded: {len(tiles)}\")\n",
    "\n",
    "    # Display a sample image\n",
    "    sample_tile = tiles[1]\n",
    "\n",
    "    print(f\"Shape of sample image: {sample_tile.shape}\")\n",
    "\n",
    "    # Plot the sample image\n",
    "    plt.imshow(cv2.cvtColor(sample_tile, cv2.COLOR_BGR2RGB))\n",
    "    plt.title(\"Sample Image\")\n",
    "    plt.axis('off')\n",
    "    plt.show()\n",
    "else:\n",
    "    print(\"No images loaded from the directory.\")\n"
   ]
  },
  {
   "cell_type": "markdown",
   "metadata": {},
   "source": [
    "- ### Print tile image matrix "
   ]
  },
  {
   "cell_type": "code",
   "execution_count": null,
   "metadata": {
    "scrolled": true
   },
   "outputs": [],
   "source": [
    "## View Image matrix to see values\n",
    "print(tiles[1])"
   ]
  },
  {
   "cell_type": "markdown",
   "metadata": {},
   "source": [
    "- ### Print tile data type"
   ]
  },
  {
   "cell_type": "code",
   "execution_count": null,
   "metadata": {},
   "outputs": [],
   "source": [
    "tiles[1].dtype"
   ]
  },
  {
   "cell_type": "markdown",
   "metadata": {},
   "source": [
    "- ### Normalize Tiles to values [0,1]"
   ]
  },
  {
   "cell_type": "code",
   "execution_count": null,
   "metadata": {},
   "outputs": [],
   "source": [
    "# import user defined function for normalizing tiles from functions/tile_normalize\n",
    "from tile_normalize import normalize_tiles"
   ]
  },
  {
   "cell_type": "code",
   "execution_count": null,
   "metadata": {},
   "outputs": [],
   "source": [
    "# call function to normalize\n",
    "normalized_tiles = normalize_tiles(tiles)"
   ]
  },
  {
   "cell_type": "markdown",
   "metadata": {},
   "source": [
    "- ### Print normalized tile data type"
   ]
  },
  {
   "cell_type": "code",
   "execution_count": null,
   "metadata": {},
   "outputs": [],
   "source": [
    "normalized_tiles[0].dtype"
   ]
  },
  {
   "cell_type": "markdown",
   "metadata": {},
   "source": [
    "- ### Visualize Normalized Tiles"
   ]
  },
  {
   "cell_type": "code",
   "execution_count": null,
   "metadata": {},
   "outputs": [],
   "source": [
    "# confirm if tiles [] holds images, print length and plot \n",
    "\n",
    "# Confirm if tiles[] holds images\n",
    "if len(normalized_tiles) > 0:\n",
    "    # Display the number of images loaded\n",
    "    print(f\"Number of images loaded: {len(normalized_tiles)}\")\n",
    "\n",
    "    # Display a sample image\n",
    "    sample_tile = normalized_tiles[1]\n",
    "\n",
    "    print(f\"Shape of sample image: {sample_tile.shape}\")\n",
    "\n",
    "    uint8_image = (sample_tile * 255).astype(np.uint8)\n",
    "    # Plot the uint8 image\n",
    "    plt.imshow(cv2.cvtColor(uint8_image, cv2.COLOR_BGR2RGB))\n",
    "    plt.title(\"Normalized Image (uint8)\")\n",
    "    plt.axis('off')\n",
    "    plt.show()\n",
    "else:\n",
    "    print(\"No images loaded from the directory.\")\n"
   ]
  },
  {
   "cell_type": "markdown",
   "metadata": {},
   "source": [
    "- #### print image matrix of tile vs normalized tile "
   ]
  },
  {
   "cell_type": "code",
   "execution_count": null,
   "metadata": {
    "scrolled": true
   },
   "outputs": [],
   "source": [
    "# Print the values side by side using string formatting\n",
    "from tabulate import tabulate\n",
    "\n",
    "# Define the data as a list of lists\n",
    "data = [\n",
    "    [\"Tile Image Matrix\", tiles[1]],\n",
    "    [\"Normalized Tile Image Matrix\", normalized_tiles[1]]\n",
    "]\n",
    "\n",
    "# Print the table\n",
    "print(tabulate(data, headers=[\"Variable\", \"Value\"]))\n"
   ]
  },
  {
   "cell_type": "code",
   "execution_count": null,
   "metadata": {},
   "outputs": [],
   "source": [
    "### minium and max values for tiles\n",
    "print(\"Normalized tiles Min:\", normalized_tiles[0].min())\n",
    "print(\"Normalized tiles Max:\", normalized_tiles[0].max())\n",
    "print(\"Normalized tiles Data type:\", normalized_tiles[0].dtype)"
   ]
  },
  {
   "cell_type": "markdown",
   "metadata": {},
   "source": [
    "### Load tile masks ../dataset/masks"
   ]
  },
  {
   "cell_type": "code",
   "execution_count": null,
   "metadata": {},
   "outputs": [],
   "source": [
    "from load_binary_masks import load_binary_masks"
   ]
  },
  {
   "cell_type": "code",
   "execution_count": null,
   "metadata": {},
   "outputs": [],
   "source": [
    "# specify path and call function \n",
    "mask_dir = \"../dataset/masks\"\n",
    "masks = load_binary_masks(mask_dir)"
   ]
  },
  {
   "cell_type": "code",
   "execution_count": null,
   "metadata": {},
   "outputs": [],
   "source": [
    "print(f\"masks has type {masks[0].dtype}, image is {type(masks[0])}, dimensions are {masks[0].shape}\")"
   ]
  },
  {
   "cell_type": "markdown",
   "metadata": {},
   "source": [
    "- ### Plot Mask"
   ]
  },
  {
   "cell_type": "code",
   "execution_count": null,
   "metadata": {},
   "outputs": [],
   "source": [
    "# Confirm if masks[] holds masks\n",
    "if len(masks) > 0:\n",
    "    # Display the number of masks loaded\n",
    "    print(f\"Number of masks loaded: {len(masks)}\")\n",
    "\n",
    "    # Display a sample image\n",
    "    sample_mask = masks[1]\n",
    "\n",
    "    print(f\"Shape of sample mask: {sample_mask.shape}\")\n",
    "\n",
    "    # Plot the sample image as grayscale\n",
    "    plt.imshow(sample_mask, cmap='binary')\n",
    "    plt.title(\"Sample Mask\")\n",
    "    plt.axis('off')\n",
    "    plt.show()\n",
    "else:\n",
    "    print(\"No images loaded from the directory.\")"
   ]
  },
  {
   "cell_type": "code",
   "execution_count": null,
   "metadata": {},
   "outputs": [],
   "source": [
    "print(\"Masks  Min:\", masks[0].min())\n",
    "print(\"Masks  Max:\", masks[0].max())\n",
    "print(\"Masks Data type\", masks[0].dtype)"
   ]
  },
  {
   "cell_type": "markdown",
   "metadata": {},
   "source": [
    "- ### Normalize Masks"
   ]
  },
  {
   "cell_type": "code",
   "execution_count": null,
   "metadata": {},
   "outputs": [],
   "source": [
    "# call function to normalize masks for consistency \n",
    "normalized_masks = normalize_tiles(masks)"
   ]
  },
  {
   "cell_type": "code",
   "execution_count": null,
   "metadata": {},
   "outputs": [],
   "source": [
    "# check the normalized masks\n",
    "print(\"Normalized Masks  Min:\", normalized_masks[0].min())\n",
    "print(\"Normalized Masks  Max:\", normalized_masks[0].max())\n",
    "print(\"Normalized Masks Data type\", normalized_masks[0].dtype)"
   ]
  },
  {
   "cell_type": "code",
   "execution_count": null,
   "metadata": {},
   "outputs": [],
   "source": [
    "num_channels = normalized_masks[0].shape[-1]\n",
    "print(\"Number of channels in the mask array:\", num_channels)"
   ]
  },
  {
   "cell_type": "markdown",
   "metadata": {},
   "source": [
    "- ### Plot a Normalized Mask"
   ]
  },
  {
   "cell_type": "code",
   "execution_count": null,
   "metadata": {},
   "outputs": [],
   "source": [
    "# Confirm if normalized_masks[] holds masks\n",
    "if len(normalized_masks) > 0:\n",
    "    # Display the number of masks loaded\n",
    "    print(f\"Number of Normalized masks loaded: {len(normalized_masks)}\")\n",
    "\n",
    "    # Display a sample image\n",
    "    sample_mask = normalized_masks[1]\n",
    "\n",
    "    print(f\"Shape of sample mask: {sample_mask.shape}\")\n",
    "\n",
    "    # Plot the sample image as grayscale\n",
    "    plt.imshow(sample_mask, cmap='binary')\n",
    "    plt.title(\"Sample Normalized Mask\")\n",
    "    plt.axis('off')\n",
    "    plt.show()\n",
    "else:\n",
    "    print(\"No images loaded from the directory.\")"
   ]
  },
  {
   "cell_type": "markdown",
   "metadata": {},
   "source": [
    "- ### Plot Tiles, Masks, Normalized Tiles, Normalized Masks"
   ]
  },
  {
   "cell_type": "code",
   "execution_count": null,
   "metadata": {
    "scrolled": false
   },
   "outputs": [],
   "source": [
    "# Assuming you have your data loaded in variables:\n",
    "# tiles, normalized_tiles, masks, normalized_masks\n",
    "\n",
    "# Sample index to display \n",
    "index = 1 \n",
    "\n",
    "# Create a figure with 2 rows and 2 columns of subplots\n",
    "fig, axes = plt.subplots(nrows=2, ncols=2, figsize=(12, 8))\n",
    "\n",
    "# Plot the 'tiles' image\n",
    "axes[0, 0].imshow(tiles[index])  # Adjust cmap if not grayscale\n",
    "axes[0, 0].set_title(\"Tiles\\nMin: {:.4f}, Max: {:.4f}\".format(tiles[index].min(), tiles[index].max()))\n",
    "\n",
    "# Plot the 'normalized_tiles' image\n",
    "axes[0, 1].imshow(normalized_tiles[index])\n",
    "axes[0, 1].set_title(\"Normalized Tiles\\nMin: {:.4f}, Max: {:.4f}\".format(normalized_tiles[index].min(), normalized_tiles[index].max()))\n",
    "\n",
    "# Plot the 'masks' image\n",
    "axes[1, 0].imshow(masks[index], cmap='gray')\n",
    "axes[1, 0].set_title(\"Masks\\nMin: {:.4f}, Max: {:.4f}\".format(masks[index].min(), masks[index].max()))\n",
    "\n",
    "# Plot the 'normalized_masks' image\n",
    "axes[1, 1].imshow(normalized_masks[index], cmap='gray')\n",
    "axes[1, 1].set_title(\"Normalized Masks\\nMin: {:.4f}, Max: {:.4f}\".format(normalized_masks[index].min(), normalized_masks[index].max()))\n",
    "\n",
    "#  Adjust spacing for aesthetics\n",
    "fig.tight_layout()\n",
    "plt.show()\n"
   ]
  },
  {
   "cell_type": "markdown",
   "metadata": {},
   "source": [
    "## Split into Training and Validation sets"
   ]
  },
  {
   "cell_type": "code",
   "execution_count": null,
   "metadata": {},
   "outputs": [],
   "source": [
    "# Import library\n",
    "from sklearn.model_selection import train_test_split"
   ]
  },
  {
   "cell_type": "markdown",
   "metadata": {},
   "source": [
    "- ### confirm details and length of the Masks and tiles np arrays"
   ]
  },
  {
   "cell_type": "code",
   "execution_count": null,
   "metadata": {},
   "outputs": [],
   "source": [
    "# import user defined function to plot tiles and masks from functions/iplot_masks_tiles.py \n",
    "from plot_masks_tiles import plot_masks_vs_tiles"
   ]
  },
  {
   "cell_type": "code",
   "execution_count": null,
   "metadata": {
    "scrolled": true
   },
   "outputs": [],
   "source": [
    "# Define the number of tiles to plot\n",
    "num_tiles_to_plot = 5\n",
    "\n",
    "# Plot the tiles and masks\n",
    "fig, axs = plt.subplots(num_tiles_to_plot, 2, figsize=(15, 30))  # Adjust the figure size here\n",
    "\n",
    "for i in range(num_tiles_to_plot):\n",
    "    # Plot the tile (colored)\n",
    "    tile_index = i  # Adjust this index based on how your tiles are loaded\n",
    "    mask_index = i  # Adjust this index based on how your masks are loaded\n",
    "    \n",
    "    #temporarily convert normalized_tiles to unit8 to plot\n",
    "    uint8_image = (normalized_tiles[tile_index] * 255).astype(np.uint8)\n",
    "    # Plot the uint8 image\n",
    "    axs[i, 0].imshow(cv2.cvtColor(uint8_image, cv2.COLOR_BGR2RGB))\n",
    "    axs[i, 0].set_title(f'Tile {tile_index}')\n",
    "    axs[i, 0].axis('off')\n",
    "    \n",
    "    # Plot the mask (black and white)\n",
    "    axs[i, 1].imshow(normalized_masks[mask_index], cmap='binary')\n",
    "    axs[i, 1].set_title(f'Mask {mask_index}')\n",
    "    axs[i, 1].axis('off')\n",
    "\n",
    "plt.tight_layout(h_pad=0.1)  # Adjust the spacing between subplots here\n",
    "plt.show()\n",
    "\n"
   ]
  },
  {
   "cell_type": "code",
   "execution_count": null,
   "metadata": {},
   "outputs": [],
   "source": [
    "print(f'type of Tiles {type(normalized_tiles)}')\n",
    "print(f'Tiles dtype {normalized_tiles[0].dtype} ')"
   ]
  },
  {
   "cell_type": "code",
   "execution_count": null,
   "metadata": {},
   "outputs": [],
   "source": [
    "print(f'type of Mask {type(normalized_masks)}')\n",
    "print(f'Mask dtype {normalized_masks[0].dtype} ')"
   ]
  },
  {
   "cell_type": "markdown",
   "metadata": {},
   "source": [
    "- ### Convert the Normalized tiles and masks to NParrays"
   ]
  },
  {
   "cell_type": "code",
   "execution_count": null,
   "metadata": {},
   "outputs": [],
   "source": [
    "## convert normalized_tiles to np arrays\n",
    "np_normalized_tiles = np.asarray(normalized_tiles)"
   ]
  },
  {
   "cell_type": "code",
   "execution_count": null,
   "metadata": {},
   "outputs": [],
   "source": [
    "## convert normalized_masks to np arrays\n",
    "np_normalized_masks = np.asarray(normalized_masks)"
   ]
  },
  {
   "cell_type": "code",
   "execution_count": null,
   "metadata": {},
   "outputs": [],
   "source": [
    "print(f'type of Tiles {type(np_normalized_tiles)}')\n",
    "print(f'Tiles dtype {np_normalized_tiles.dtype} ')\n",
    "print(f\"Shape of normalized tiles: {np_normalized_tiles.shape}\")\n",
    "print(\"----------------------------------------------------------------\")\n",
    "print(f'type of Mask {type(np_normalized_masks)}')\n",
    "print(f'Mask dtype {np_normalized_masks.dtype} ')\n",
    "print(f\"Shape of normalized masks: {np_normalized_masks.shape}\")"
   ]
  },
  {
   "cell_type": "markdown",
   "metadata": {},
   "source": [
    "- ### Split Dataset"
   ]
  },
  {
   "cell_type": "code",
   "execution_count": null,
   "metadata": {},
   "outputs": [],
   "source": [
    "# import library\n",
    "from sklearn.model_selection import train_test_split"
   ]
  },
  {
   "cell_type": "code",
   "execution_count": null,
   "metadata": {},
   "outputs": [],
   "source": [
    "# split 80/20\n",
    "X_train, X_val, y_train, y_val = train_test_split(\n",
    "    normalized_tiles, normalized_masks, test_size=0.2, random_state=42\n",
    ")"
   ]
  },
  {
   "cell_type": "code",
   "execution_count": null,
   "metadata": {},
   "outputs": [],
   "source": [
    "print(f\"type of X_train {type(X_train)}\") \n",
    "print(f\"type of X_val {type(X_val)}\") \n",
    "print(f\"type of y_train {type(y_train)}\") \n",
    "print(f\"type of y_val {type(y_val)}\")"
   ]
  },
  {
   "cell_type": "markdown",
   "metadata": {},
   "source": [
    "- ### Convert Split to NP arrays"
   ]
  },
  {
   "cell_type": "code",
   "execution_count": null,
   "metadata": {},
   "outputs": [],
   "source": [
    "X_train = np.array(X_train)\n",
    "X_val = np.array(X_val)\n",
    "y_train = np.array(y_train)\n",
    "y_val = np.array(y_val)"
   ]
  },
  {
   "cell_type": "code",
   "execution_count": null,
   "metadata": {},
   "outputs": [],
   "source": [
    "proportion_fire_train = np.count_nonzero(y_train.flatten() == 1)  / len(y_train.flatten())\n",
    "proportion_fire_val = np.count_nonzero(y_val.flatten() == 1) / len(y_val.flatten())\n",
    " \n",
    "print(\"Proportion of fire pixels in y_train:\", proportion_fire_train)\n",
    "print(\"Proportion of fire pixels in y_val:\", proportion_fire_val)\n"
   ]
  },
  {
   "cell_type": "code",
   "execution_count": null,
   "metadata": {},
   "outputs": [],
   "source": [
    "print(f\"type of X_train {type(X_train)}\") \n",
    "print(f\"type of X_val {type(X_val)}\") \n",
    "print(f\"type of y_train {type(y_train)}\") \n",
    "print(f\"type of y_val {type(y_val)}\")"
   ]
  },
  {
   "cell_type": "code",
   "execution_count": null,
   "metadata": {},
   "outputs": [],
   "source": [
    "print(f\"X_train shape: {X_train.shape}\")\n",
    "print(f\"X_val shape: {X_val.shape}\")\n",
    "print(f\"y_train shape: {y_train.shape}\")\n",
    "print(f\"y_val shape: {y_val.shape}\")"
   ]
  },
  {
   "cell_type": "markdown",
   "metadata": {},
   "source": [
    "- ### plot Split values before model training "
   ]
  },
  {
   "cell_type": "code",
   "execution_count": null,
   "metadata": {},
   "outputs": [],
   "source": [
    "import matplotlib.pyplot as plt\n",
    "\n",
    "# Choose an index for the sample to plot\n",
    "index = 1  # You can change this index to visualize different samples\n",
    "\n",
    "# Plot the training sample\n",
    "#temporarily convert X_train to unit8 to plot\n",
    "uint8_image_train = (X_train[index] * 255).astype(np.uint8)\n",
    "plt.subplot(1, 2, 1)\n",
    "plt.imshow(uint8_image_train )\n",
    "plt.title('Training Sample')\n",
    "plt.axis('off')\n",
    "\n",
    "# Plot the corresponding ground truth mask\n",
    "plt.subplot(1, 2, 2)\n",
    "plt.imshow(y_train[index], cmap='gray')  # Assuming the mask is grayscale\n",
    "plt.title('Ground Truth Mask')\n",
    "plt.axis('off')\n",
    "\n",
    "plt.show()\n",
    "\n",
    "# Plot the validation sample\n",
    "plt.subplot(1, 2, 1)\n",
    "#temporarily convert X_Val to unit8 to plot\n",
    "uint8_image_val = (X_val[index] * 255).astype(np.uint8)\n",
    "plt.imshow(uint8_image_val)\n",
    "plt.title('Validation Sample')\n",
    "plt.axis('off')\n",
    "\n",
    "# Plot the corresponding ground truth mask\n",
    "plt.subplot(1, 2, 2)\n",
    "plt.imshow(y_val[index], cmap='gray')  # Assuming the mask is grayscale\n",
    "plt.title('Ground Truth Mask')\n",
    "plt.axis('off')\n",
    "\n",
    "plt.show()\n"
   ]
  },
  {
   "cell_type": "markdown",
   "metadata": {},
   "source": [
    "#### Note:\n",
    "<p> \n",
    "    - X_train and y_train contains the training data <br> \n",
    "    - X_val and y_val contains the validation data\n",
    "</p>"
   ]
  },
  {
   "cell_type": "markdown",
   "metadata": {},
   "source": [
    "## UNET Model design"
   ]
  },
  {
   "cell_type": "markdown",
   "metadata": {},
   "source": [
    "- ### Setup Early  Earlystopping and Checkpoints"
   ]
  },
  {
   "cell_type": "code",
   "execution_count": null,
   "metadata": {},
   "outputs": [],
   "source": [
    "# Define directory to save the checkpoints\n",
    "checkpoint_dir = '../checkpoints'\n",
    "\n",
    "# directory check\n",
    "os.makedirs(checkpoint_dir, exist_ok=True)\n",
    "\n",
    "# checkpoint callback\n",
    "checkpoint_callback = ModelCheckpoint(\n",
    "    filepath=os.path.join(checkpoint_dir, 'unet_checkpoint.keras'),\n",
    "    monitor='val_loss',\n",
    "    save_best_only=True,\n",
    "    save_weights_only=False,\n",
    "    mode='min',\n",
    "    verbose=1\n",
    ")\n",
    "\n",
    "# Define the early stopping callback\n",
    "early_stopping_callback = EarlyStopping(\n",
    "    monitor='val_loss',\n",
    "    patience=3,\n",
    "    restore_best_weights=True,\n",
    "    verbose=1\n",
    ")"
   ]
  },
  {
   "cell_type": "markdown",
   "metadata": {},
   "source": [
    "- ### import cross entropy loss"
   ]
  },
  {
   "cell_type": "code",
   "execution_count": null,
   "metadata": {},
   "outputs": [],
   "source": [
    "from tensorflow.keras.losses import BinaryCrossentropy\n",
    "\n",
    "# Create an instance of BinaryCrossentropy\n",
    "bce_loss = BinaryCrossentropy()"
   ]
  },
  {
   "cell_type": "code",
   "execution_count": null,
   "metadata": {},
   "outputs": [],
   "source": [
    "#import adam\n",
    "from tensorflow.keras.optimizers.legacy import Adam as AdamLegacy\n"
   ]
  },
  {
   "cell_type": "markdown",
   "metadata": {},
   "source": [
    "- ### Import Unet script"
   ]
  },
  {
   "cell_type": "code",
   "execution_count": null,
   "metadata": {},
   "outputs": [],
   "source": [
    "# import unet model function from functions/unet.py\n",
    "from unet import unet\n",
    "from unet_dual_input import unet_dual"
   ]
  },
  {
   "cell_type": "markdown",
   "metadata": {},
   "source": [
    "### Build Model"
   ]
  },
  {
   "cell_type": "code",
   "execution_count": null,
   "metadata": {},
   "outputs": [],
   "source": [
    "unet_model = unet()"
   ]
  },
  {
   "cell_type": "code",
   "execution_count": null,
   "metadata": {},
   "outputs": [],
   "source": [
    "# trying dice loss function\n",
    "from dice_loss import dice_loss as dls"
   ]
  },
  {
   "cell_type": "markdown",
   "metadata": {},
   "source": [
    "### Compile Model"
   ]
  },
  {
   "cell_type": "code",
   "execution_count": null,
   "metadata": {},
   "outputs": [],
   "source": [
    "# Compile the model with an appropriate loss function for multiclass segmentation\n",
    "unet_model = unet()\n",
    "unet_model.compile(optimizer=AdamLegacy(learning_rate=0.0001), loss=bce_loss, metrics=['accuracy'])"
   ]
  },
  {
   "cell_type": "markdown",
   "metadata": {},
   "source": [
    "### Model Summary"
   ]
  },
  {
   "cell_type": "code",
   "execution_count": null,
   "metadata": {
    "scrolled": true
   },
   "outputs": [],
   "source": [
    "unet_model.summary()"
   ]
  },
  {
   "cell_type": "code",
   "execution_count": null,
   "metadata": {},
   "outputs": [],
   "source": [
    "print(X_train.shape, y_train.shape)\n",
    "print(X_val.shape, y_val.shape)  "
   ]
  },
  {
   "cell_type": "markdown",
   "metadata": {},
   "source": [
    "### Fit Model"
   ]
  },
  {
   "cell_type": "code",
   "execution_count": null,
   "metadata": {
    "scrolled": true
   },
   "outputs": [],
   "source": [
    "start_time = time.time()\n",
    "\n",
    "unet_model.fit(\n",
    "    X_train, y_train,\n",
    "    epochs=100,\n",
    "    validation_data=(X_val, y_val),\n",
    "    callbacks=[checkpoint_callback, early_stopping_callback],\n",
    "    verbose=1\n",
    ")\n",
    "\n",
    "stop_time = time.time() - start_time\n",
    "print(f\"UNET training time: {stop_time / 3600:.2f} hrs\")"
   ]
  },
  {
   "cell_type": "code",
   "execution_count": null,
   "metadata": {},
   "outputs": [],
   "source": [
    "''' \n",
    "    Note to self: reduce lr , increase drop out, make drop out an argument to that we can update its value \n",
    "    without editing the models script \n",
    "    After the first 3 epochs, the models training became faster \n",
    "    Val_acccuracy never changed, but val_loss changes \n",
    "    accuracy has remained the same\n",
    "'''"
   ]
  },
  {
   "cell_type": "markdown",
   "metadata": {},
   "source": [
    "### Training split "
   ]
  },
  {
   "cell_type": "code",
   "execution_count": null,
   "metadata": {},
   "outputs": [],
   "source": [
    "type(normalized_tiles)"
   ]
  },
  {
   "cell_type": "code",
   "execution_count": null,
   "metadata": {},
   "outputs": [],
   "source": [
    "type(masks_float64)"
   ]
  },
  {
   "cell_type": "code",
   "execution_count": null,
   "metadata": {},
   "outputs": [],
   "source": [
    "train_data, test_data, train_labels, test_labels = train_test_split(normalized_tiles, masks_float64, test_size=0.2)"
   ]
  },
  {
   "cell_type": "markdown",
   "metadata": {},
   "source": [
    "- ### Plot Test split before model evaluation"
   ]
  },
  {
   "cell_type": "code",
   "execution_count": null,
   "metadata": {},
   "outputs": [],
   "source": [
    "import matplotlib.pyplot as plt\n",
    "\n",
    "# Choose an index for the sample to plot\n",
    "index = 4  # You can change this index to visualize different samples\n",
    "\n",
    "# Plot the training sample\n",
    "#temporarily convert train_data to unit8 to plot\n",
    "uint8_image_train = (train_data[index] * 255).astype(np.uint8)\n",
    "plt.subplot(1, 2, 1)\n",
    "plt.imshow(uint8_image_train )\n",
    "plt.title('Testing Sample')\n",
    "plt.axis('off')\n",
    "\n",
    "# Plot the corresponding ground truth mask\n",
    "plt.subplot(1, 2, 2)\n",
    "plt.imshow(train_labels[index], cmap='gray')  # Assuming the mask is grayscale\n",
    "plt.title('Ground Truth Mask')\n",
    "plt.axis('off')\n",
    "\n",
    "plt.show()\n",
    "\n",
    "# Plot the validation sample\n",
    "plt.subplot(1, 2, 1)\n",
    "#temporarily convert test_data to unit8 to plot\n",
    "uint8_image_val = (test_data[index] * 255).astype(np.uint8)\n",
    "plt.imshow(uint8_image_val)\n",
    "plt.title('Validation Sample (Test)')\n",
    "plt.axis('off')\n",
    "\n",
    "# Plot the corresponding ground truth mask\n",
    "plt.subplot(1, 2, 2)\n",
    "plt.imshow(test_labels[index], cmap='gray')  # Assuming the mask is grayscale\n",
    "plt.title('Ground Truth Mask')\n",
    "plt.axis('off')\n",
    "\n",
    "plt.show()\n"
   ]
  },
  {
   "cell_type": "code",
   "execution_count": null,
   "metadata": {},
   "outputs": [],
   "source": [
    "\n",
    "# Method 1: Using boolean indexing and sum\n",
    "count_of_ones = np.sum(test_labels == 1)\n",
    "proportion_of_ones = count_of_ones / len(test_labels)  \n",
    "\n",
    "# Method 2: Using np.where\n",
    "count_of_ones = np.where(test_labels == 1)[0].size\n",
    "proportion_of_ones = count_of_ones / len(test_labels)\n",
    "\n",
    "print(\"Proportion of '1' values:\", proportion_of_ones)\n"
   ]
  },
  {
   "cell_type": "code",
   "execution_count": null,
   "metadata": {},
   "outputs": [],
   "source": [
    "print(test_data.shape)"
   ]
  },
  {
   "cell_type": "code",
   "execution_count": null,
   "metadata": {},
   "outputs": [],
   "source": [
    "print(test_labels.shape)"
   ]
  },
  {
   "cell_type": "code",
   "execution_count": null,
   "metadata": {},
   "outputs": [],
   "source": [
    "print(train_labels.shape)"
   ]
  },
  {
   "cell_type": "code",
   "execution_count": null,
   "metadata": {},
   "outputs": [],
   "source": [
    "print(test_labels.shape)"
   ]
  },
  {
   "cell_type": "markdown",
   "metadata": {},
   "source": [
    "### Run Model Evaluation"
   ]
  },
  {
   "cell_type": "code",
   "execution_count": null,
   "metadata": {},
   "outputs": [],
   "source": [
    "len(normalized_tiles) == len(masks_float64)"
   ]
  },
  {
   "cell_type": "code",
   "execution_count": null,
   "metadata": {},
   "outputs": [],
   "source": [
    "score = unet_model.evaluate(test_data, test_labels, verbose=0)\n",
    "print('Test loss:', score[0])\n",
    "print('Test accuracy:', score[1])"
   ]
  },
  {
   "cell_type": "code",
   "execution_count": null,
   "metadata": {},
   "outputs": [],
   "source": [
    "print(\"Test_data min:\", test_data.min())\n",
    "print(\"test_Data max:\", test_data.max())\n",
    "print(\"test_labels min:\", test_labels.min())\n",
    "print(\"test_labels max:\", test_labels.max())"
   ]
  },
  {
   "cell_type": "code",
   "execution_count": null,
   "metadata": {},
   "outputs": [],
   "source": []
  },
  {
   "cell_type": "markdown",
   "metadata": {},
   "source": [
    "### Run  Model predictions"
   ]
  },
  {
   "cell_type": "code",
   "execution_count": null,
   "metadata": {},
   "outputs": [],
   "source": [
    "predictions = unet_model.predict(test_data)"
   ]
  },
  {
   "cell_type": "code",
   "execution_count": null,
   "metadata": {},
   "outputs": [],
   "source": [
    "# Plot the 1 prediction\n",
    "plt.imshow((predictions[1]>0.25), cmap='gray')  # Assuming the mask is grayscale\n",
    "plt.title('Ground Truth Mask')\n",
    "plt.axis('off')\n",
    "plt.show()"
   ]
  },
  {
   "cell_type": "code",
   "execution_count": null,
   "metadata": {},
   "outputs": [],
   "source": [
    "'''\n",
    "    View datatypes and information of Predictions  \n",
    "'''\n",
    "#test\n",
    "print(predictions.shape)  # Check the shape\n",
    "print(predictions.dtype)  # Check the data type"
   ]
  },
  {
   "cell_type": "code",
   "execution_count": null,
   "metadata": {},
   "outputs": [],
   "source": [
    "predictions.shape"
   ]
  },
  {
   "cell_type": "code",
   "execution_count": null,
   "metadata": {},
   "outputs": [],
   "source": [
    "print(\"Predictions min:\", predictions.min())\n",
    "print(\"Predictions max:\", predictions.max())"
   ]
  },
  {
   "cell_type": "code",
   "execution_count": null,
   "metadata": {},
   "outputs": [],
   "source": [
    "\n",
    "# Debugging: (You can remove if no longer needed)\n",
    "print(\"Predictions data type:\", predictions.dtype)\n",
    "print(\"Predictions shape:\", predictions.shape)\n",
    "print(\"Predictions min:\", predictions.min())\n",
    "print(\"Predictions max:\", predictions.max())\n",
    "\n",
    "# Define the number of images to plot\n",
    "num_images = 5\n",
    "\n",
    "# Plot the input images and their predictions\n",
    "plt.figure(figsize=(12, 6))\n",
    "for i in range(num_images):\n",
    "    plt.subplot(2, num_images, i + 1)\n",
    "    plt.imshow(test_data[i])\n",
    "    plt.title('Input')\n",
    "    plt.axis('off')\n",
    "\n",
    "    plt.subplot(2, num_images, num_images + i + 1)\n",
    "    plt.imshow(predictions[i], cmap='viridis')\n",
    "    plt.title('Prediction')\n",
    "    plt.axis('off')\n",
    "\n",
    "plt.tight_layout()\n",
    "plt.show()\n"
   ]
  },
  {
   "cell_type": "markdown",
   "metadata": {},
   "source": [
    "### Peformance Evaluation"
   ]
  },
  {
   "cell_type": "code",
   "execution_count": null,
   "metadata": {},
   "outputs": [],
   "source": [
    "\n",
    "from sklearn.metrics import confusion_matrix\n",
    "\n",
    "# Step 1: Apply thresholding to predictions\n",
    "threshold = 0.005\n",
    "predictions_binary = (predictions >= threshold).astype(np.int32)\n",
    "\n",
    "# Step 2: Flatten true class labels and predictions for comparison\n",
    "y_true = test_labels.flatten()\n",
    "y_pred = predictions_binary.flatten()\n",
    "\n",
    "# Step 3: Calculate the confusion matrix\n",
    "cm = confusion_matrix(y_true, y_pred)\n",
    "\n",
    "# Step 4: Calculate TPR, FPR, TNR, FNR directly from the confusion matrix\n",
    "TN = cm[0][0]\n",
    "FP = cm[0][1]\n",
    "FN = cm[1][0]\n",
    "TP = cm[1][1]\n",
    "\n",
    "TPR = TP / (TP + FN)  # True Positive Rate (Sensitivity, Recall)\n",
    "FPR = FP / (FP + TN)  # False Positive Rate \n",
    "TNR = TN / (TN + FP)  # True Negative Rate (Specificity)\n",
    "FNR = FN / (TP + FN)  # False Negative Rate\n",
    "\n",
    "# Step 5: Print the results\n",
    "print(\"Confusion Matrix:\\n\", cm)\n",
    "print(\"TPR:\", TPR)\n",
    "print(\"FPR:\", FPR)\n",
    "print(\"TNR:\", TNR)\n",
    "print(\"FNR:\", FNR)\n"
   ]
  },
  {
   "cell_type": "code",
   "execution_count": null,
   "metadata": {},
   "outputs": [],
   "source": []
  }
 ],
 "metadata": {
  "kernelspec": {
   "display_name": "Python 3 (ipykernel)",
   "language": "python",
   "name": "python3"
  },
  "language_info": {
   "codemirror_mode": {
    "name": "ipython",
    "version": 3
   },
   "file_extension": ".py",
   "mimetype": "text/x-python",
   "name": "python",
   "nbconvert_exporter": "python",
   "pygments_lexer": "ipython3",
   "version": "3.11.5"
  }
 },
 "nbformat": 4,
 "nbformat_minor": 2
}
